{
 "cells": [
  {
   "cell_type": "code",
   "execution_count": 1,
   "metadata": {},
   "outputs": [],
   "source": [
    "                   #Librerías\n",
    "import tensorflow as tf\n",
    "from keras.preprocessing.image import ImageDataGenerator"
   ]
  },
  {
   "cell_type": "code",
   "execution_count": 2,
   "metadata": {},
   "outputs": [
    {
     "data": {
      "text/plain": [
       "'2.3.1'"
      ]
     },
     "execution_count": 2,
     "metadata": {},
     "output_type": "execute_result"
    }
   ],
   "source": [
    "                    #Confirmando que se está utilizando Tensorflow\n",
    "tf.__version__"
   ]
  },
  {
   "cell_type": "code",
   "execution_count": 3,
   "metadata": {},
   "outputs": [
    {
     "name": "stdout",
     "output_type": "stream",
     "text": [
      "Found 8000 images belonging to 2 classes.\n"
     ]
    }
   ],
   "source": [
    "                    #Preprocesamiento del data (imagenes)\n",
    "                    #Preprocesamiento del set de entrenamiento\n",
    "\n",
    "#Transformaciones en las imagenes para evitar sobrellenado/sobreaprendizaje y no tener problemas en el acierto \n",
    "# de nuestro sistema inteligente\n",
    "train_datagen = ImageDataGenerator (\n",
    "    rescale = 1./255,\n",
    "    shear_range=0.2,\n",
    "    zoom_range=0.2,\n",
    "    horizontal_flip=True)\n",
    "\n",
    "set_entrenamiento = train_datagen.flow_from_directory(\n",
    "        'Desktop\\\\Proyecto CatDog\\\\dataset\\\\training_set',\n",
    "        target_size = (64, 64),\n",
    "        batch_size = 32,\n",
    "        class_mode = 'binary') "
   ]
  },
  {
   "cell_type": "code",
   "execution_count": 4,
   "metadata": {},
   "outputs": [
    {
     "name": "stdout",
     "output_type": "stream",
     "text": [
      "Found 2000 images belonging to 2 classes.\n"
     ]
    }
   ],
   "source": [
    "#Preprocesamiento del set de prueba\n",
    "test_datagen = ImageDataGenerator(rescale=1./255)\n",
    "\n",
    "set_prueba = test_datagen.flow_from_directory(\n",
    "        'Desktop\\\\Proyecto CatDog\\\\dataset\\\\test_set',\n",
    "        target_size = (64, 64),\n",
    "        batch_size = 32,\n",
    "        class_mode = 'binary')"
   ]
  },
  {
   "cell_type": "code",
   "execution_count": 5,
   "metadata": {},
   "outputs": [],
   "source": [
    "                    #Construcción de la red neuronal"
   ]
  },
  {
   "cell_type": "code",
   "execution_count": 6,
   "metadata": {},
   "outputs": [],
   "source": [
    "#Inicio de la red\n",
    "cnn = tf.keras.models.Sequential()"
   ]
  },
  {
   "cell_type": "code",
   "execution_count": 7,
   "metadata": {},
   "outputs": [],
   "source": [
    "#Convolucionar la red\n",
    "cnn.add(tf.keras.layers.Conv2D(filters = 32, kernel_size = 3, activation = 'relu', input_shape = [64, 64, 3]))"
   ]
  },
  {
   "cell_type": "code",
   "execution_count": 8,
   "metadata": {},
   "outputs": [],
   "source": [
    "#Agrupación\n",
    "#Se agrupan los pixels de cada imagen 2px x 2px\n",
    "cnn.add(tf.keras.layers.MaxPool2D(pool_size = 2, strides = 2))"
   ]
  },
  {
   "cell_type": "code",
   "execution_count": 9,
   "metadata": {},
   "outputs": [],
   "source": [
    "cnn.add(tf.keras.layers.Conv2D(filters = 32, kernel_size = 3, activation = 'relu'))\n",
    "cnn.add(tf.keras.layers.MaxPool2D(pool_size = 2, strides = 2))"
   ]
  },
  {
   "cell_type": "code",
   "execution_count": 10,
   "metadata": {},
   "outputs": [],
   "source": [
    "#\"Aplanamiento\" de cada imagen (Flattening)\n",
    "cnn.add(tf.keras.layers.Flatten())"
   ]
  },
  {
   "cell_type": "code",
   "execution_count": 11,
   "metadata": {},
   "outputs": [],
   "source": [
    "#Conexión completa (Full Connection)\n",
    "\n",
    "#Más units (neuronas) más precisión del resultado\n",
    "cnn.add(tf.keras.layers.Dense(units = 128, activation = 'relu'))"
   ]
  },
  {
   "cell_type": "code",
   "execution_count": 12,
   "metadata": {},
   "outputs": [],
   "source": [
    "#Capa de salida (Output layer)\n",
    "\n",
    "#Unit = neurona = 1 neurona de salida (Perro o gato para este caso)\n",
    "#Sigmoid = clasificación binaria\n",
    "cnn.add(tf.keras.layers.Dense(units = 1, activation = 'sigmoid'))"
   ]
  },
  {
   "cell_type": "code",
   "execution_count": 13,
   "metadata": {},
   "outputs": [],
   "source": [
    "                    #Entrenamiento de la red neuronal creada previamente en la parte de arriba"
   ]
  },
  {
   "cell_type": "code",
   "execution_count": 14,
   "metadata": {},
   "outputs": [
    {
     "name": "stdout",
     "output_type": "stream",
     "text": [
      "Epoch 1/25\n",
      "250/250 [==============================] - 287s 1s/step - loss: 0.6724 - accuracy: 0.5789 - val_loss: 0.6122 - val_accuracy: 0.6775\n",
      "Epoch 2/25\n",
      "250/250 [==============================] - 123s 492ms/step - loss: 0.6031 - accuracy: 0.6730 - val_loss: 0.5784 - val_accuracy: 0.7025\n",
      "Epoch 3/25\n",
      "250/250 [==============================] - 126s 505ms/step - loss: 0.5629 - accuracy: 0.7059 - val_loss: 0.5473 - val_accuracy: 0.7275\n",
      "Epoch 4/25\n",
      "250/250 [==============================] - 136s 545ms/step - loss: 0.5264 - accuracy: 0.7366 - val_loss: 0.5572 - val_accuracy: 0.7255\n",
      "Epoch 5/25\n",
      "250/250 [==============================] - 149s 596ms/step - loss: 0.5051 - accuracy: 0.7501 - val_loss: 0.5053 - val_accuracy: 0.7645\n",
      "Epoch 6/25\n",
      "250/250 [==============================] - 136s 545ms/step - loss: 0.4894 - accuracy: 0.7632 - val_loss: 0.5007 - val_accuracy: 0.7620\n",
      "Epoch 7/25\n",
      "250/250 [==============================] - 139s 556ms/step - loss: 0.4730 - accuracy: 0.7694 - val_loss: 0.4693 - val_accuracy: 0.7880\n",
      "Epoch 8/25\n",
      "250/250 [==============================] - 142s 566ms/step - loss: 0.4513 - accuracy: 0.7855 - val_loss: 0.4574 - val_accuracy: 0.7850\n",
      "Epoch 9/25\n",
      "250/250 [==============================] - 153s 610ms/step - loss: 0.4297 - accuracy: 0.7990 - val_loss: 0.4715 - val_accuracy: 0.7795\n",
      "Epoch 10/25\n",
      "250/250 [==============================] - 206s 825ms/step - loss: 0.4155 - accuracy: 0.8101 - val_loss: 0.4947 - val_accuracy: 0.7720\n",
      "Epoch 11/25\n",
      "250/250 [==============================] - 226s 904ms/step - loss: 0.4038 - accuracy: 0.8120 - val_loss: 0.4459 - val_accuracy: 0.7965\n",
      "Epoch 12/25\n",
      "250/250 [==============================] - 175s 698ms/step - loss: 0.3927 - accuracy: 0.8190 - val_loss: 0.4432 - val_accuracy: 0.8115\n",
      "Epoch 13/25\n",
      "250/250 [==============================] - 232s 927ms/step - loss: 0.3820 - accuracy: 0.8267 - val_loss: 0.5469 - val_accuracy: 0.7450\n",
      "Epoch 14/25\n",
      "250/250 [==============================] - 157s 628ms/step - loss: 0.3647 - accuracy: 0.8354 - val_loss: 0.4700 - val_accuracy: 0.7895\n",
      "Epoch 15/25\n",
      "250/250 [==============================] - 211s 842ms/step - loss: 0.3425 - accuracy: 0.8518 - val_loss: 0.4565 - val_accuracy: 0.7930\n",
      "Epoch 16/25\n",
      "250/250 [==============================] - 275s 1s/step - loss: 0.3359 - accuracy: 0.8565 - val_loss: 0.4416 - val_accuracy: 0.8150\n",
      "Epoch 17/25\n",
      "250/250 [==============================] - 302s 1s/step - loss: 0.3123 - accuracy: 0.8655 - val_loss: 0.4353 - val_accuracy: 0.8115\n",
      "Epoch 18/25\n",
      "250/250 [==============================] - 336s 1s/step - loss: 0.3038 - accuracy: 0.8662 - val_loss: 0.4310 - val_accuracy: 0.8120\n",
      "Epoch 19/25\n",
      "250/250 [==============================] - 300s 1s/step - loss: 0.2888 - accuracy: 0.8786 - val_loss: 0.4713 - val_accuracy: 0.8165\n",
      "Epoch 20/25\n",
      "250/250 [==============================] - 367s 1s/step - loss: 0.2829 - accuracy: 0.8811 - val_loss: 0.4494 - val_accuracy: 0.8095\n",
      "Epoch 21/25\n",
      "250/250 [==============================] - 355s 1s/step - loss: 0.2611 - accuracy: 0.8915 - val_loss: 0.4957 - val_accuracy: 0.8085\n",
      "Epoch 22/25\n",
      "250/250 [==============================] - 220s 879ms/step - loss: 0.2494 - accuracy: 0.8970 - val_loss: 0.5210 - val_accuracy: 0.8075\n",
      "Epoch 23/25\n",
      "250/250 [==============================] - 198s 792ms/step - loss: 0.2420 - accuracy: 0.8984 - val_loss: 0.4944 - val_accuracy: 0.8120\n",
      "Epoch 24/25\n",
      "250/250 [==============================] - 214s 856ms/step - loss: 0.2306 - accuracy: 0.9104 - val_loss: 0.5349 - val_accuracy: 0.8080\n",
      "Epoch 25/25\n",
      "250/250 [==============================] - 161s 642ms/step - loss: 0.2252 - accuracy: 0.9057 - val_loss: 0.4834 - val_accuracy: 0.8120\n"
     ]
    },
    {
     "data": {
      "text/plain": [
       "<tensorflow.python.keras.callbacks.History at 0x19010e64308>"
      ]
     },
     "execution_count": 14,
     "metadata": {},
     "output_type": "execute_result"
    }
   ],
   "source": [
    "#Compilando y entrenando la red con el set de entrenamiento y evaluando el set de prueba\n",
    "\n",
    "#Adam es un algoritmo de optimización que se puede utilizar en lugar del procedimiento de descenso \n",
    "# de gradiente estocástico clásico para actualizar los pesos de red de forma iterativa en función de los datos de entrenamiento.\n",
    "cnn.compile(optimizer = 'adam', loss = 'binary_crossentropy', metrics = ['accuracy'])\n",
    "\n",
    "\n",
    "#Fit entrena la red neuronal con el set de entrenamiento\n",
    "#Epoch = veces que el algoritmo pasa por las capas y aprende en ellas para luego actualizar sus valores\n",
    "cnn.fit(x = set_entrenamiento, validation_data = set_prueba, epochs = 25)"
   ]
  },
  {
   "cell_type": "code",
   "execution_count": 15,
   "metadata": {},
   "outputs": [],
   "source": [
    "                    #Predicciones"
   ]
  },
  {
   "cell_type": "code",
   "execution_count": 16,
   "metadata": {},
   "outputs": [],
   "source": [
    "import numpy as np\n",
    "from keras.preprocessing import image\n",
    "\n",
    "imagen_prueba = image.load_img('Desktop\\\\Proyecto CatDog\\\\dataset\\\\single_prediction\\\\CatDog1.jpg', target_size = (64, 64))\n",
    "imagen_prueba = image.img_to_array(imagen_prueba)\n",
    "imagen_prueba = np.expand_dims(imagen_prueba, axis = 0)\n",
    "resultado = cnn.predict(imagen_prueba)\n",
    "set_entrenamiento.class_indices\n",
    "if resultado [0][0] == 1:\n",
    "    prediction = 'Perro'\n",
    "else:\n",
    "    prediction = 'Gato'"
   ]
  },
  {
   "cell_type": "code",
   "execution_count": 17,
   "metadata": {},
   "outputs": [
    {
     "name": "stdout",
     "output_type": "stream",
     "text": [
      "Perro\n"
     ]
    }
   ],
   "source": [
    "print(prediction)"
   ]
  },
  {
   "cell_type": "code",
   "execution_count": 18,
   "metadata": {},
   "outputs": [],
   "source": [
    "import numpy as np\n",
    "from keras.preprocessing import image\n",
    "\n",
    "imagen_prueba = image.load_img('Desktop\\\\Proyecto CatDog\\\\dataset\\\\single_prediction\\\\CatDog2.jpg', target_size = (64, 64))\n",
    "imagen_prueba = image.img_to_array(imagen_prueba)\n",
    "imagen_prueba = np.expand_dims(imagen_prueba, axis = 0)\n",
    "resultado = cnn.predict(imagen_prueba)\n",
    "set_entrenamiento.class_indices\n",
    "if resultado [0][0] == 1:\n",
    "    prediction = 'Perro'\n",
    "else:\n",
    "    prediction = 'Gato'"
   ]
  },
  {
   "cell_type": "code",
   "execution_count": 19,
   "metadata": {},
   "outputs": [
    {
     "name": "stdout",
     "output_type": "stream",
     "text": [
      "Gato\n"
     ]
    }
   ],
   "source": [
    "print(prediction)"
   ]
  },
  {
   "cell_type": "code",
   "execution_count": 20,
   "metadata": {},
   "outputs": [],
   "source": [
    "import numpy as np\n",
    "from keras.preprocessing import image\n",
    "\n",
    "imagen_prueba = image.load_img('Desktop\\\\Proyecto CatDog\\\\dataset\\\\single_prediction\\\\CatDog3.jpg', target_size = (64, 64))\n",
    "imagen_prueba = image.img_to_array(imagen_prueba)\n",
    "imagen_prueba = np.expand_dims(imagen_prueba, axis = 0)\n",
    "resultado = cnn.predict(imagen_prueba)\n",
    "set_entrenamiento.class_indices\n",
    "if resultado [0][0] == 1:\n",
    "    prediction = 'Perro'\n",
    "else:\n",
    "    prediction = 'Gato'"
   ]
  },
  {
   "cell_type": "code",
   "execution_count": 21,
   "metadata": {},
   "outputs": [
    {
     "name": "stdout",
     "output_type": "stream",
     "text": [
      "Gato\n"
     ]
    }
   ],
   "source": [
    "print(prediction)"
   ]
  },
  {
   "cell_type": "code",
   "execution_count": 22,
   "metadata": {},
   "outputs": [],
   "source": [
    "import numpy as np\n",
    "from keras.preprocessing import image\n",
    "\n",
    "imagen_prueba = image.load_img('Desktop\\\\Proyecto CatDog\\\\dataset\\\\single_prediction\\\\CatDog4.jpg', target_size = (64, 64))\n",
    "imagen_prueba = image.img_to_array(imagen_prueba)\n",
    "imagen_prueba = np.expand_dims(imagen_prueba, axis = 0)\n",
    "resultado = cnn.predict(imagen_prueba)\n",
    "set_entrenamiento.class_indices\n",
    "if resultado [0][0] == 1:\n",
    "    prediction = 'Perro'\n",
    "else:\n",
    "    prediction = 'Gato'"
   ]
  },
  {
   "cell_type": "code",
   "execution_count": 23,
   "metadata": {},
   "outputs": [
    {
     "name": "stdout",
     "output_type": "stream",
     "text": [
      "Gato\n"
     ]
    }
   ],
   "source": [
    "print(prediction)"
   ]
  },
  {
   "cell_type": "code",
   "execution_count": 24,
   "metadata": {},
   "outputs": [],
   "source": [
    "import numpy as np\n",
    "from keras.preprocessing import image\n",
    "\n",
    "imagen_prueba = image.load_img('Desktop\\\\Proyecto CatDog\\\\dataset\\\\single_prediction\\\\CatDog5.jpg', target_size = (64, 64))\n",
    "imagen_prueba = image.img_to_array(imagen_prueba)\n",
    "imagen_prueba = np.expand_dims(imagen_prueba, axis = 0)\n",
    "resultado = cnn.predict(imagen_prueba)\n",
    "set_entrenamiento.class_indices\n",
    "if resultado [0][0] == 1:\n",
    "    prediction = 'Perro'\n",
    "else:\n",
    "    prediction = 'Gato'"
   ]
  },
  {
   "cell_type": "code",
   "execution_count": 25,
   "metadata": {},
   "outputs": [
    {
     "name": "stdout",
     "output_type": "stream",
     "text": [
      "Perro\n"
     ]
    }
   ],
   "source": [
    "print(prediction)"
   ]
  },
  {
   "cell_type": "code",
   "execution_count": 26,
   "metadata": {},
   "outputs": [],
   "source": [
    "import numpy as np\n",
    "from keras.preprocessing import image\n",
    "\n",
    "imagen_prueba = image.load_img('Desktop\\\\Proyecto CatDog\\\\dataset\\\\single_prediction\\\\CatDog6.jpg', target_size = (64, 64))\n",
    "imagen_prueba = image.img_to_array(imagen_prueba)\n",
    "imagen_prueba = np.expand_dims(imagen_prueba, axis = 0)\n",
    "resultado = cnn.predict(imagen_prueba)\n",
    "set_entrenamiento.class_indices\n",
    "if resultado [0][0] == 1:\n",
    "    prediction = 'Perro'\n",
    "else:\n",
    "    prediction = 'Gato'"
   ]
  },
  {
   "cell_type": "code",
   "execution_count": 27,
   "metadata": {},
   "outputs": [
    {
     "name": "stdout",
     "output_type": "stream",
     "text": [
      "Perro\n"
     ]
    }
   ],
   "source": [
    "print(prediction)"
   ]
  },
  {
   "cell_type": "code",
   "execution_count": 28,
   "metadata": {},
   "outputs": [],
   "source": [
    "import numpy as np\n",
    "from keras.preprocessing import image\n",
    "\n",
    "imagen_prueba = image.load_img('Desktop\\\\Proyecto CatDog\\\\dataset\\\\single_prediction\\\\CatDog7.jpg', target_size = (64, 64))\n",
    "imagen_prueba = image.img_to_array(imagen_prueba)\n",
    "imagen_prueba = np.expand_dims(imagen_prueba, axis = 0)\n",
    "resultado = cnn.predict(imagen_prueba)\n",
    "set_entrenamiento.class_indices\n",
    "if resultado [0][0] == 1:\n",
    "    prediction = 'Perro'\n",
    "else:\n",
    "    prediction = 'Gato'"
   ]
  },
  {
   "cell_type": "code",
   "execution_count": 29,
   "metadata": {},
   "outputs": [
    {
     "name": "stdout",
     "output_type": "stream",
     "text": [
      "Perro\n"
     ]
    }
   ],
   "source": [
    "print(prediction)"
   ]
  },
  {
   "cell_type": "code",
   "execution_count": 30,
   "metadata": {},
   "outputs": [],
   "source": [
    "import numpy as np\n",
    "from keras.preprocessing import image\n",
    "\n",
    "imagen_prueba = image.load_img('Desktop\\\\Proyecto CatDog\\\\dataset\\\\single_prediction\\\\CatDog8.jpg', target_size = (64, 64))\n",
    "imagen_prueba = image.img_to_array(imagen_prueba)\n",
    "imagen_prueba = np.expand_dims(imagen_prueba, axis = 0)\n",
    "resultado = cnn.predict(imagen_prueba)\n",
    "set_entrenamiento.class_indices\n",
    "if resultado [0][0] == 1:\n",
    "    prediction = 'Perro'\n",
    "else:\n",
    "    prediction = 'Gato'"
   ]
  },
  {
   "cell_type": "code",
   "execution_count": 31,
   "metadata": {},
   "outputs": [
    {
     "name": "stdout",
     "output_type": "stream",
     "text": [
      "Gato\n"
     ]
    }
   ],
   "source": [
    "print(prediction)"
   ]
  },
  {
   "cell_type": "code",
   "execution_count": 32,
   "metadata": {},
   "outputs": [],
   "source": [
    "import numpy as np\n",
    "from keras.preprocessing import image\n",
    "\n",
    "imagen_prueba = image.load_img('Desktop\\\\Proyecto CatDog\\\\dataset\\\\single_prediction\\\\CatDog9.jpg', target_size = (64, 64))\n",
    "imagen_prueba = image.img_to_array(imagen_prueba)\n",
    "imagen_prueba = np.expand_dims(imagen_prueba, axis = 0)\n",
    "resultado = cnn.predict(imagen_prueba)\n",
    "set_entrenamiento.class_indices\n",
    "if resultado [0][0] == 1:\n",
    "    prediction = 'Perro'\n",
    "else:\n",
    "    prediction = 'Gato'"
   ]
  },
  {
   "cell_type": "code",
   "execution_count": 33,
   "metadata": {},
   "outputs": [
    {
     "name": "stdout",
     "output_type": "stream",
     "text": [
      "Perro\n"
     ]
    }
   ],
   "source": [
    "print(prediction)"
   ]
  },
  {
   "cell_type": "code",
   "execution_count": null,
   "metadata": {},
   "outputs": [],
   "source": []
  }
 ],
 "metadata": {
  "kernelspec": {
   "display_name": "Python 3",
   "language": "python",
   "name": "python3"
  },
  "language_info": {
   "codemirror_mode": {
    "name": "ipython",
    "version": 3
   },
   "file_extension": ".py",
   "mimetype": "text/x-python",
   "name": "python",
   "nbconvert_exporter": "python",
   "pygments_lexer": "ipython3",
   "version": "3.7.4"
  }
 },
 "nbformat": 4,
 "nbformat_minor": 2
}
